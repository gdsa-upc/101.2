{
 "metadata": {
  "name": "",
  "signature": "sha256:ba2a37f26ae9ff828ed9d14e138ea4b4d5e5219504c0727a7077e8b7a34f784e"
 },
 "nbformat": 3,
 "nbformat_minor": 0,
 "worksheets": [
  {
   "cells": [
    {
     "cell_type": "heading",
     "level": 1,
     "metadata": {},
     "source": [
      "Buscador Main Class"
     ]
    },
    {
     "cell_type": "markdown",
     "metadata": {},
     "source": [
      "Build Database:"
     ]
    },
    {
     "cell_type": "code",
     "collapsed": false,
     "input": [
      "#create a file where all imagenames with the ID are saved\n",
      "file = open('C:\\Users\\Bananenbaum\\Desktop\\GDSA\\projecto\\Valeration.txt','w')\n",
      "\n",
      "\n",
      "#read filenames from the directory\n",
      "filename= os.listdir(r'C:\\Users\\Bananenbaum\\Desktop\\GDSA\\projecto\\TerrassaBuildings900\\val\\images')\n",
      " \n",
      " # write the Index and the filename line by line in the textfile\n",
      "for index in range(len(filename)):\n",
      " file.write('{:d}  {}\\n'.format(index, filename[index]))\n",
      " \n",
      "\n",
      "file.close()\n",
      "\n",
      "#create a file where all imagenames with the ID are saved\n",
      "file = open('C:\\Users\\Bananenbaum\\Desktop\\GDSA\\projecto\\Train.txt','w')\n",
      "\n",
      "\n",
      "#read filenames from the directory\n",
      "filename= os.listdir(r'C:\\Users\\Bananenbaum\\Desktop\\GDSA\\projecto\\TerrassaBuildings900\\train\\images')\n",
      " \n",
      " # write the Index and the filename line by line in the textfile\n",
      "for index in range(len(filename)):\n",
      " file.write('{:d}  {}\\n'.format(index, filename[index]))\n",
      " \n",
      "\n",
      "file.close()"
     ],
     "language": "python",
     "metadata": {},
     "outputs": []
    },
    {
     "cell_type": "markdown",
     "metadata": {},
     "source": [
      "Get features:"
     ]
    },
    {
     "cell_type": "code",
     "collapsed": false,
     "input": [
      "#read the file that was produced in the step bevor\n",
      "file = open('C:\\Users\\Bananenbaum\\Desktop\\GDSA\\projecto\\Valeration.txt','r')\n",
      "\n",
      "#create a new directory\n",
      "Valdir=dict()\n",
      "\n",
      "#read the file line by line\n",
      "for line in file.readlines():\n",
      "    \n",
      "#only use the first colum with the indexes\n",
      " index = line.split()[0]\n",
      " x =random.randint(100,900)\n",
      "#safe the indexes of the images together with the 'feature'(random numer)\n",
      " Valdir[index] = x\n",
      " \n",
      "\n",
      "file.close()\n",
      "\n",
      "\n",
      "#read the file that was produced in the step bevor\n",
      "file = open('C:\\Users\\Bananenbaum\\Desktop\\GDSA\\projecto\\Train.txt','r')\n",
      "\n",
      "#create a new directory\n",
      "Traindir=dict()\n",
      "\n",
      "#read the file line by line\n",
      "for line in file.readlines():\n",
      "    \n",
      "#only use the first colum with the indexes\n",
      " indexT = line.split()[0]\n",
      " z =random.randint(100,900)\n",
      "\n",
      "#safe the indexes of the images together with the 'feature'(random numer)\n",
      " Traindir[indexT] = z\n",
      " \n",
      "file.close()"
     ],
     "language": "python",
     "metadata": {},
     "outputs": []
    },
    {
     "cell_type": "markdown",
     "metadata": {},
     "source": [
      "Ranking simple:"
     ]
    },
    {
     "cell_type": "code",
     "collapsed": false,
     "input": [
      "#get the features from the directory \n",
      "#that was made in the step before\n",
      "for feature in Valdir.itervalues():\n",
      "\n",
      "    #create new textfiles with the feature of the image as name to safe the rankinglist\n",
      " path= 'C:\\Users\\Bananenbaum\\Desktop\\GDSA\\projecto\\Ranking_val\\ {:d}'.format(feature)\n",
      " path2= path+'.txt'\n",
      "\n",
      "    #open the textfile to write\n",
      " newFile=open(path2,'w')\n",
      "    \n",
      "    #read the features from the traindirectory \n",
      "    #to compare to tthe current feature\n",
      " for feature_train in Traindir.itervalues():\n",
      "     \n",
      "#write random ranking to the file\n",
      "  number =random.randint(100,900)\n",
      "  newFile.write('{} {:d}\\n'.format(feature_train, number))\n",
      "\n",
      " newFile.close()"
     ],
     "language": "python",
     "metadata": {},
     "outputs": []
    },
    {
     "cell_type": "markdown",
     "metadata": {},
     "source": [
      "Classification simple:"
     ]
    },
    {
     "cell_type": "code",
     "collapsed": false,
     "input": [
      "#create new textfile to safe the annotationlist\n",
      "newFile2=open('C:\\Users\\Bananenbaum\\Desktop\\GDSA\\projecto\\Annotation_list.txt','w')\n",
      "\n",
      "cathegories=['catedral','desconegut','la_enginyeria','estacio_nord','dona_treballadora','mnactec',\n",
      "'castell_cartoixa','ajuntament','masia_freixa','teatre_principal','mercat_independencia',\n",
      "'farmacia_albinyana','societat_general']\n",
      "\n",
      "#get the features from the directory \n",
      "#that was made before\n",
      "for feature_val in Valdir.itervalues():\n",
      "    \n",
      "#write feature with random annotation to the file\n",
      " number2 =random.randint(0,12)\n",
      " newFile2.write('{} {}\\n'.format(feature_val, cathegories[number2]))\n",
      "newFile2.close()"
     ],
     "language": "python",
     "metadata": {},
     "outputs": []
    },
    {
     "cell_type": "markdown",
     "metadata": {},
     "source": [
      "Evaluate ranking:"
     ]
    },
    {
     "cell_type": "code",
     "collapsed": false,
     "input": [
      "#save the names of the files in the Ranking archive \n",
      "rankingNames= os.listdir(r'C:\\Users\\Bananenbaum\\Desktop\\GDSA\\projecto\\Ranking_val')\n",
      "\n",
      "#the ranking lists are opend secuentionaly\n",
      "array=[]\n",
      "\n",
      "for dex in range(len(rankingNames)):\n",
      " writePath='C:\\Users\\Bananenbaum\\Desktop\\GDSA\\projecto\\Ranking_val\\{}'.format(rankingNames[dex])  \n",
      " current=open(writePath,'r')    \n",
      "\n",
      "#initiate a variable to count the correct file number\n",
      " correct=0\n",
      " x=string.split(rankingNames[dex],'.',1)\n",
      " x2=int(''.join(x[0]))\n",
      " \n",
      "#compare if the feature of every picture in the ranking list is equal to the filename\n",
      " for line in current.readlines():\n",
      "  picture_feature= line.split()[0]\n",
      "  picture_feature2=int(picture_feature)\n",
      "  if picture_feature2==x2: \n",
      "    correct+=1\n",
      "\n",
      "#safe the number of correct files in an array\n",
      " array.append(correct)"
     ],
     "language": "python",
     "metadata": {},
     "outputs": []
    },
    {
     "cell_type": "markdown",
     "metadata": {},
     "source": [
      "Evaluate classification:"
     ]
    },
    {
     "cell_type": "code",
     "collapsed": false,
     "input": [
      "#1d array-like, or label indicator array / sparse matrix\n",
      "#Ground truth (correct) target values.\n",
      "ground =open('C:\\Users\\Bananenbaum\\Desktop\\GDSA\\projecto\\TerrassaBuildings900\\Val\\Val_annotation.txt','r')\n",
      "y_true= []\n",
      "\n",
      "#Estimated targets as returned by a classifier.\n",
      "targets =open('C:\\Users\\Bananenbaum\\Desktop\\GDSA\\projecto\\Annotation_list.txt','r')\n",
      "y_pred= []\n",
      "\n",
      "ground.readline()\n",
      "for line in ground.readlines():\n",
      "\n",
      "#only use the second column\n",
      " currentClass = line.split()[1]\n",
      " y_true.append(currentClass)\n",
      "\n",
      "for line in targets.readlines():\n",
      " currentTrue = line.split()[1]\n",
      " y_pred.append(currentTrue) \n",
      " \n",
      "\n",
      " #precision &recall\n",
      "print 'the precision score is: ' + str(precision_score(y_true, y_pred, average='weighted'))\n",
      "print 'the recall score is: ' + str(recall_score(y_true, y_pred, average='weighted'))"
     ],
     "language": "python",
     "metadata": {},
     "outputs": []
    }
   ],
   "metadata": {}
  }
 ]
}