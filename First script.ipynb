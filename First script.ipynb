{
 "metadata": {
  "name": "",
  "signature": "sha256:3086c800c9fe6e9c348447f278e67e1f942d9dda4d7ae297a66ddca7e139ef7f"
 },
 "nbformat": 3,
 "nbformat_minor": 0,
 "worksheets": [
  {
   "cells": [
    {
     "cell_type": "heading",
     "level": 1,
     "metadata": {},
     "source": [
      "Group 101.2"
     ]
    },
    {
     "cell_type": "code",
     "collapsed": false,
     "input": [],
     "language": "python",
     "metadata": {},
     "outputs": [],
     "prompt_number": 0
    },
    {
     "cell_type": "heading",
     "level": 1,
     "metadata": {},
     "source": [
      "Script1"
     ]
    },
    {
     "cell_type": "code",
     "collapsed": false,
     "input": [
      "# -*- coding: utf-8 -*-\n",
      "# Proyecto 101.2\n",
      "\n",
      "import cv2\n",
      "import numpy as np\n",
      "\n",
      "img = cv2.imread('testimage.jpg')\n",
      "\n",
      "print np.shape(img)\n",
      "# Pasamos a nivel de gris \n",
      "gray = cv2.cvtColor(img,cv2.COLOR_BGR2GRAY)\n",
      "\n",
      "# Iniciamos el detector SIFT\n",
      "sift = cv2.SIFT()\n",
      "\n",
      "# Detectamos puntos de inter\u00e9s, los computamos y los ubicamos\n",
      "kp, des = sift.detectAndCompute(gray,None)\n",
      "\n",
      "# Dibuja los puntos en una imagen de salida llamada 'sift_keypoints.jpg'\n",
      "img = cv2.drawKeypoints(gray,kp)\n",
      "\n",
      "print np.shape(kp)\n",
      "\n",
      "# Creamos la imagen resultante\n",
      "cv2.imwrite('sift_keypoints.jpg',img)"
     ],
     "language": "python",
     "metadata": {},
     "outputs": [
      {
       "output_type": "stream",
       "stream": "stdout",
       "text": [
        "(168L, 300L, 3L)\n",
        "(0L,)"
       ]
      },
      {
       "output_type": "stream",
       "stream": "stdout",
       "text": [
        "\n"
       ]
      },
      {
       "metadata": {},
       "output_type": "pyout",
       "prompt_number": 1,
       "text": [
        "True"
       ]
      }
     ],
     "prompt_number": 1
    },
    {
     "cell_type": "heading",
     "level": 2,
     "metadata": {},
     "source": [
      "Others"
     ]
    },
    {
     "cell_type": "code",
     "collapsed": false,
     "input": [
      "from skimage import data\n",
      "from skimage import transform as tf\n",
      "\n",
      "from skimage.feature import CENSURE\n",
      "\n",
      "from skimage.color import rgb2gray\n",
      "\n",
      "import matplotlib.pyplot as plt\n",
      "\n",
      "\n",
      "\n",
      "## aqui pone la dirrection del imagen con: (r\"<dirrection>\")\n",
      "\n",
      "img1 = rgb2gray(data.load(r\"C:\\Users\\Albert\\testimage.jpg\"))\n",
      "\n",
      "tform = tf.AffineTransform(scale=(1.5, 1.5), rotation=0.5,\n",
      "\n",
      "translation=(150, -200))\n",
      "\n",
      "img2 = tf.warp(img1, tform)\n",
      "\n",
      "\n",
      "\n",
      "\n",
      "\n",
      "detector = CENSURE()\n",
      "\n",
      "\n",
      "\n",
      "fig, ax = plt.subplots(nrows=1, ncols=2)\n",
      "\n",
      "\n",
      "\n",
      "plt.gray()\n",
      "\n",
      "\n",
      "\n",
      "detector.detect(img1)\n",
      "\n",
      "\n",
      "\n",
      "ax[0].imshow(img1)\n",
      "\n",
      "ax[0].axis('off')\n",
      "\n",
      "ax[0].scatter(detector.keypoints[:, 1], detector.keypoints[:, 0],\n",
      "\n",
      "2 ** detector.scales, facecolors='none', edgecolors='r')\n",
      "\n",
      "\n",
      "\n",
      "detector.detect(img2)\n",
      "\n",
      "ax[1].imshow(img2)\n",
      "\n",
      "ax[1].axis('off')\n",
      "\n",
      "ax[1].scatter(detector.keypoints[:, 1], detector.keypoints[:, 0],\n",
      "\n",
      "2 ** detector.scales, facecolors='none', edgecolors='r')\n",
      "\n",
      "plt.show()"
     ],
     "language": "python",
     "metadata": {},
     "outputs": [
      {
       "metadata": {},
       "output_type": "display_data",
       "png": "[encoded data removed]",
       "text": [
        "<matplotlib.figure.Figure at 0xb25a320>"
       ]
      }
     ],
     "prompt_number": 2
    },
    {
     "cell_type": "code",
     "collapsed": false,
     "input": [],
     "language": "python",
     "metadata": {},
     "outputs": [],
     "prompt_number": 2
    }
   ],
   "metadata": {}
  }
 ]
}