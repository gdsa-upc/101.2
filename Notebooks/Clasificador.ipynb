{
 "metadata": {
  "name": "",
  "signature": "sha256:3c3f2afb6e3455ea6f62f55b8b0db14b055469fbf29f1c5fb626ceca981db02b"
 },
 "nbformat": 3,
 "nbformat_minor": 0,
 "worksheets": [
  {
   "cells": [
    {
     "cell_type": "heading",
     "level": 1,
     "metadata": {},
     "source": [
      "Sesi\u00f3n 6: Clasificador"
     ]
    },
    {
     "cell_type": "markdown",
     "metadata": {},
     "source": [
      "En este notebook mostraremos, punto por punto, los resultados obtenidos hasta la evaluaci\u00f3n del clasificador.\n"
     ]
    },
    {
     "cell_type": "code",
     "collapsed": false,
     "input": [
      "import numpy as np\n",
      "import time\n",
      "# Add the root path (the path above this one) to the pythonpath.\n",
      "sys.path.insert(0,'../')\n",
      "from params import get_params\n",
      "\n",
      "params = get_params()"
     ],
     "language": "python",
     "metadata": {},
     "outputs": [],
     "prompt_number": 1
    },
    {
     "cell_type": "heading",
     "level": 2,
     "metadata": {},
     "source": [
      "\n",
      "Entrenamiento del clasificador"
     ]
    },
    {
     "cell_type": "markdown",
     "metadata": {},
     "source": [
      "Para hacer esto primero cargamos el diccionario del conjunto de entrenamiento y la lista de anotaci\u00f3n. "
     ]
    },
    {
     "cell_type": "code",
     "collapsed": false,
     "input": [
      "from train_classifier import train_classifier"
     ],
     "language": "python",
     "metadata": {},
     "outputs": [],
     "prompt_number": 2
    },
    {
     "cell_type": "code",
     "collapsed": false,
     "input": [
      "    params = get_params()\n",
      "    # Change to training set\n",
      "    params['split'] = 'train'\n",
      "    \n",
      "    print \"Entrenando el clasificador...\"\n",
      "    t = time.time()\n",
      "    train_classifier(params)\n",
      "    print \"Done. Time elapsed:\", time.time() - t"
     ],
     "language": "python",
     "metadata": {},
     "outputs": [
      {
       "output_type": "stream",
       "stream": "stdout",
       "text": [
        "Entrenando el clasificador...\n",
        "(450L, 512L)"
       ]
      },
      {
       "output_type": "stream",
       "stream": "stdout",
       "text": [
        "\n",
        "Peso de cada clase: "
       ]
      },
      {
       "output_type": "stream",
       "stream": "stdout",
       "text": [
        "\n",
        "{'castell_cartoixa': 1, 'societat_general': 1, 'desconegut': 0.23076923, 'farmacia_albinyana': 1, 'ajuntament': 1, 'mnactec': 1, 'escola_enginyeria': 1, 'masia_freixa': 1, 'mercat_independencia': 1, 'dona_treballadora': 1, 'catedral': 1, 'teatre_principal': 1, 'estacio_nord': 1}\n",
        "Done. Time elapsed:"
       ]
      },
      {
       "output_type": "stream",
       "stream": "stdout",
       "text": [
        " 0.688000202179\n"
       ]
      }
     ],
     "prompt_number": 3
    },
    {
     "cell_type": "markdown",
     "metadata": {},
     "source": [
      "\n",
      "Utilizamos np.squeeze() para reducir la dimensi\u00f3n del BoW. Antes: (450L, 1L, 512L), ahora: (450L, 512L)\n",
      "\n",
      "Y con la func\u00f3n GridSearchCV obtenemos los mejores par\u00e1metros de kernel i C, para svm.SVC():\n",
      "\n",
      "    '''\n",
      "    y = np.arange(1,500)\n",
      "    lista = []\n",
      "    for yy in y:\n",
      "        lista.append(yy)\n",
      "    #print lista       \n",
      "    svr = svm.SVC()        \n",
      "    parameters = {'kernel':('linear','rbf','poly','sigmoid'), 'C':lista}\n",
      "    a = GridSearchCV(svr,parameters)\n",
      "    a.fit(feats,class_annot)\n",
      "    print a.best_params_\n",
      "    '''  "
     ]
    },
    {
     "cell_type": "heading",
     "level": 2,
     "metadata": {},
     "source": [
      "\n",
      "Clasificador"
     ]
    },
    {
     "cell_type": "markdown",
     "metadata": {},
     "source": [
      "Una vez entrenado el clasificador, lo cargamos en la func\u00f3n classifier, junto al diccionario del conjunto de validaci\u00f3n (para obtener sus BoW) y la anotaci\u00f3n (d\u00f3nde se podr\u00e1 comparar las clases reales).\n",
      "\n",
      "Creamos una lista de identificadores y otra con los BoW.\n"
     ]
    },
    {
     "cell_type": "code",
     "collapsed": false,
     "input": [
      "from classifier import *"
     ],
     "language": "python",
     "metadata": {},
     "outputs": [],
     "prompt_number": 4
    },
    {
     "cell_type": "markdown",
     "metadata": {},
     "source": [
      "Hacemos la predicci\u00f3n de los BoW del conjunto de validaci\u00f3n respecto al modelo de entrenamiento."
     ]
    },
    {
     "cell_type": "code",
     "collapsed": false,
     "input": [
      "params['split'] = 'val'\n",
      "t = time.time()\n",
      "classifier(params)\n",
      "\n",
      "print \"Done. Time elapsed:\", time.time() - t"
     ],
     "language": "python",
     "metadata": {},
     "outputs": [
      {
       "output_type": "stream",
       "stream": "stdout",
       "text": [
        "Done. Time elapsed: 0.150000095367\n"
       ]
      }
     ],
     "prompt_number": 5
    },
    {
     "cell_type": "heading",
     "level": 3,
     "metadata": {},
     "source": [
      "\n",
      "Evaluaci\u00f3n del clasificador"
     ]
    },
    {
     "cell_type": "markdown",
     "metadata": {},
     "source": [
      "Ahora utilizamos la func\u00f3n eval_classification. Aqu\u00ed nos basamos en la funci\u00f3n de gdsa-suport para evaluar la clasificaci\u00f3n."
     ]
    },
    {
     "cell_type": "code",
     "collapsed": false,
     "input": [
      "import eval_classification as EC"
     ],
     "language": "python",
     "metadata": {},
     "outputs": [],
     "prompt_number": 2
    },
    {
     "cell_type": "code",
     "collapsed": false,
     "input": [
      " f1, precision, recall, accuracy,cm, labels = EC.eval_classification(params)"
     ],
     "language": "python",
     "metadata": {},
     "outputs": [],
     "prompt_number": 3
    },
    {
     "cell_type": "code",
     "collapsed": false,
     "input": [
      "    print f1\n",
      "    print \"F1:\", np.mean(f1)\n",
      "    print \"Precision:\", np.mean(precision)\n",
      "    print \"Recall:\", np.mean(recall)\n",
      "    print \"Accuracy:\", accuracy"
     ],
     "language": "python",
     "metadata": {},
     "outputs": [
      {
       "output_type": "stream",
       "stream": "stdout",
       "text": [
        "[ 1.          0.58823529  0.76190476  0.7114094   0.4         0.82352941\n",
        "  0.5         0.88888889  0.47058824  0.625       0.6         0.75\n",
        "  0.77777778]\n",
        "F1: 0.684410289671\n",
        "Precision: 0.783345586997\n",
        "Recall: 0.629487179487\n",
        "Accuracy: 0.7\n"
       ]
      }
     ],
     "prompt_number": 4
    },
    {
     "cell_type": "markdown",
     "metadata": {},
     "source": [
      "- Matriz de confusi\u00f3n:"
     ]
    },
    {
     "cell_type": "code",
     "collapsed": false,
     "input": [
      "EC.plot_confusion_matrix(cm, labels,normalize = True)"
     ],
     "language": "python",
     "metadata": {},
     "outputs": [
      {
       "metadata": {},
       "output_type": "display_data",
       "png": "[encoded data removed]",
       "text": [
        "<matplotlib.figure.Figure at 0xcb615c0>"
       ]
      }
     ],
     "prompt_number": 5
    },
    {
     "cell_type": "markdown",
     "metadata": {},
     "source": [
      "\n",
      "D\u00f3nde F1 es la medida de precisi\u00f3n que tiene el test, que combina los valores de la precisi\u00f3n y de recall\n",
      "\n",
      "La precisi\u00f3n es la fracci\u00f3n de los documentos recuperados que son relevantes para la consulta.\n",
      "\n",
      "Recall  es la fracci\u00f3n de los documentos que son relevantes para la consulta que se recupera satisfactoriamente.\n",
      "\n",
      "Accuracy es la exactitud de los resultados."
     ]
    }
   ],
   "metadata": {}
  }
 ]
}