{
 "metadata": {
  "name": "",
  "signature": "sha256:553319991117cca9d1ab8dd75c6b953ad6993cb8f35151075e2a805bd3df5b54"
 },
 "nbformat": 3,
 "nbformat_minor": 0,
 "worksheets": []
}