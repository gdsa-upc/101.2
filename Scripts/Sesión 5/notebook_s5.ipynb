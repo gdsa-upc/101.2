{
 "metadata": {
  "name": "",
  "signature": "sha256:24c1f12e5672e7056e1c2202bd2d1b444589f59d3259cb78fe3792931891be32"
 },
 "nbformat": 3,
 "nbformat_minor": 0,
 "worksheets": [
  {
   "cells": [
    {
     "cell_type": "heading",
     "level": 1,
     "metadata": {},
     "source": [
      "GDSA_s5"
     ]
    },
    {
     "cell_type": "heading",
     "level": 2,
     "metadata": {},
     "source": [
      "Extract Features"
     ]
    },
    {
     "cell_type": "markdown",
     "metadata": {},
     "source": [
      "Este Notebook muestra los resultados obtenidos para esta sesi\u00f3n.\n",
      "\n"
     ]
    },
    {
     "cell_type": "code",
     "collapsed": false,
     "input": [
      "from get_local_features import get_local_features\n",
      "from get_assignments import get_assignments\n",
      "from train_codebook import train_codebook\n",
      "from Bow_vector import build_bow"
     ],
     "language": "python",
     "metadata": {},
     "outputs": []
    },
    {
     "cell_type": "markdown",
     "metadata": {},
     "source": [
      "En la funci\u00f3n extract_features el siguiente proceso ser\u00e1 procesado para cada imagen de train i val.\n",
      "Aqu\u00ed tenemos un ejemplo de validation set:"
     ]
    },
    {
     "cell_type": "code",
     "collapsed": false,
     "input": [
      "for index in Val_files:\n",
      "    \n",
      "        des=get_local_features(param,'C:\\Users\\Bananenbaum\\Desktop\\GDSA\\projecto\\Session4\\TerrassaBuildings900\\Val\\images\\{}'.format(index))\n",
      "        code=train_codebook(param,des)\n",
      "        V_assign=get_assignments(code,des)\n",
      "        V_Bow=build_bow(V_assign,code)\n",
      "        Val_dic[index]=V_Bow\n",
      "        "
     ],
     "language": "python",
     "metadata": {},
     "outputs": []
    },
    {
     "cell_type": "markdown",
     "metadata": {},
     "source": [
      "Ahora explicaremos el funcionamiento de cada funci\u00f3n:"
     ]
    },
    {
     "cell_type": "markdown",
     "metadata": {},
     "source": [
      "\n",
      "En get_local_features sacamos los puntos de inter\u00e9s y sus descriptores con esta funci\u00f3n:"
     ]
    },
    {
     "cell_type": "code",
     "collapsed": false,
     "input": [
      "kp, des=sift.detectAndCompute(res,None,100)"
     ],
     "language": "python",
     "metadata": {},
     "outputs": []
    },
    {
     "cell_type": "markdown",
     "metadata": {},
     "source": [
      "\n",
      "En train_codebook entrenamos el Kmeans utilizando los descriptores para las im\u00e1genes de entrenamiento.\n",
      "\n",
      "La salida ser\u00e1n los centroides de los clusters seg\u00fan los descriptores."
     ]
    },
    {
     "cell_type": "code",
     "collapsed": false,
     "input": [
      "[centroides,distorsion] = kmeans(descriptors, n_clusters, iter=20, thresh=1e-05, check_finite=True)"
     ],
     "language": "python",
     "metadata": {},
     "outputs": []
    },
    {
     "cell_type": "markdown",
     "metadata": {},
     "source": [
      "\n",
      "En get_assignments calculamos las asignaciones para cada descriptor. "
     ]
    },
    {
     "cell_type": "code",
     "collapsed": false,
     "input": [
      "[assig,distance] = vq(descriptors,codebook)"
     ],
     "language": "python",
     "metadata": {},
     "outputs": []
    },
    {
     "cell_type": "code",
     "collapsed": false,
     "input": [],
     "language": "python",
     "metadata": {},
     "outputs": []
    }
   ],
   "metadata": {}
  }
 ]
}